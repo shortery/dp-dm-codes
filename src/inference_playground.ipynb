{
 "cells": [
  {
   "cell_type": "code",
   "execution_count": 1,
   "metadata": {},
   "outputs": [
    {
     "name": "stderr",
     "output_type": "stream",
     "text": [
      "/home/kp/miniconda3/envs/dm-codes/lib/python3.9/site-packages/tqdm/auto.py:22: TqdmWarning: IProgress not found. Please update jupyter and ipywidgets. See https://ipywidgets.readthedocs.io/en/stable/user_install.html\n",
      "  from .autonotebook import tqdm as notebook_tqdm\n"
     ]
    }
   ],
   "source": [
    "import numpy as np\n",
    "import pandas as pd\n",
    "from PIL import Image\n",
    "import datasets\n",
    "import lightning.pytorch as pl\n",
    "import torch\n",
    "import itertools\n",
    "import timeit\n",
    "import time\n",
    "import onnx\n",
    "import onnxruntime\n",
    "from tqdm import tqdm\n",
    "\n",
    "import my_utils\n",
    "import my_training\n",
    "import my_datasets"
   ]
  },
  {
   "cell_type": "markdown",
   "metadata": {},
   "source": [
    "# Predict on test dataset"
   ]
  },
  {
   "cell_type": "code",
   "execution_count": 2,
   "metadata": {},
   "outputs": [
    {
     "name": "stderr",
     "output_type": "stream",
     "text": [
      "Resolving data files: 100%|██████████| 201/201 [00:00<00:00, 281.30it/s]\n"
     ]
    }
   ],
   "source": [
    "# load dataset from hugging face\n",
    "cropped_test_dataset_from_hf = datasets.load_dataset(\"shortery/cropped-dm-codes\")[\"test\"]"
   ]
  },
  {
   "cell_type": "code",
   "execution_count": 3,
   "metadata": {},
   "outputs": [
    {
     "data": {
      "text/html": [
       "<div>\n",
       "<style scoped>\n",
       "    .dataframe tbody tr th:only-of-type {\n",
       "        vertical-align: middle;\n",
       "    }\n",
       "\n",
       "    .dataframe tbody tr th {\n",
       "        vertical-align: top;\n",
       "    }\n",
       "\n",
       "    .dataframe thead th {\n",
       "        text-align: right;\n",
       "    }\n",
       "</style>\n",
       "<table border=\"1\" class=\"dataframe\">\n",
       "  <thead>\n",
       "    <tr style=\"text-align: right;\">\n",
       "      <th></th>\n",
       "      <th>image</th>\n",
       "      <th>tl</th>\n",
       "      <th>tr</th>\n",
       "      <th>br</th>\n",
       "      <th>bl</th>\n",
       "      <th>clean</th>\n",
       "      <th>text</th>\n",
       "      <th>image_name</th>\n",
       "      <th>decoded_text_before_nn</th>\n",
       "    </tr>\n",
       "  </thead>\n",
       "  <tbody>\n",
       "    <tr>\n",
       "      <th>0</th>\n",
       "      <td>&lt;PIL.JpegImagePlugin.JpegImageFile image mode=...</td>\n",
       "      <td>[1632, 884]</td>\n",
       "      <td>[2646, 873]</td>\n",
       "      <td>[2652, 1896]</td>\n",
       "      <td>[1632, 1908]</td>\n",
       "      <td>True</td>\n",
       "      <td>11505771-01</td>\n",
       "      <td>000.jpg</td>\n",
       "      <td>11505771-01</td>\n",
       "    </tr>\n",
       "    <tr>\n",
       "      <th>1</th>\n",
       "      <td>&lt;PIL.JpegImagePlugin.JpegImageFile image mode=...</td>\n",
       "      <td>[1869, 1737]</td>\n",
       "      <td>[2430, 993]</td>\n",
       "      <td>[3183, 1542]</td>\n",
       "      <td>[2604, 2262]</td>\n",
       "      <td>False</td>\n",
       "      <td>11505771-01</td>\n",
       "      <td>001.jpg</td>\n",
       "      <td>None</td>\n",
       "    </tr>\n",
       "    <tr>\n",
       "      <th>2</th>\n",
       "      <td>&lt;PIL.JpegImagePlugin.JpegImageFile image mode=...</td>\n",
       "      <td>[1380, 1536]</td>\n",
       "      <td>[1923, 1110]</td>\n",
       "      <td>[2295, 1668]</td>\n",
       "      <td>[1737, 2064]</td>\n",
       "      <td>False</td>\n",
       "      <td>11505771-01</td>\n",
       "      <td>002.jpg</td>\n",
       "      <td>None</td>\n",
       "    </tr>\n",
       "    <tr>\n",
       "      <th>3</th>\n",
       "      <td>&lt;PIL.JpegImagePlugin.JpegImageFile image mode=...</td>\n",
       "      <td>[1476, 932]</td>\n",
       "      <td>[2628, 984]</td>\n",
       "      <td>[2580, 2144]</td>\n",
       "      <td>[1412, 2096]</td>\n",
       "      <td>False</td>\n",
       "      <td>11505771-01</td>\n",
       "      <td>003.jpg</td>\n",
       "      <td>11505771-01</td>\n",
       "    </tr>\n",
       "    <tr>\n",
       "      <th>4</th>\n",
       "      <td>&lt;PIL.JpegImagePlugin.JpegImageFile image mode=...</td>\n",
       "      <td>[1640, 600]</td>\n",
       "      <td>[2732, 600]</td>\n",
       "      <td>[2724, 1692]</td>\n",
       "      <td>[1648, 1692]</td>\n",
       "      <td>False</td>\n",
       "      <td>11505771-01</td>\n",
       "      <td>004.jpg</td>\n",
       "      <td>11505771-01</td>\n",
       "    </tr>\n",
       "    <tr>\n",
       "      <th>...</th>\n",
       "      <td>...</td>\n",
       "      <td>...</td>\n",
       "      <td>...</td>\n",
       "      <td>...</td>\n",
       "      <td>...</td>\n",
       "      <td>...</td>\n",
       "      <td>...</td>\n",
       "      <td>...</td>\n",
       "      <td>...</td>\n",
       "    </tr>\n",
       "    <tr>\n",
       "      <th>195</th>\n",
       "      <td>&lt;PIL.JpegImagePlugin.JpegImageFile image mode=...</td>\n",
       "      <td>[1824, 2790]</td>\n",
       "      <td>[1731, 2136]</td>\n",
       "      <td>[2379, 1923]</td>\n",
       "      <td>[2328, 2418]</td>\n",
       "      <td>False</td>\n",
       "      <td>92123605213202401080000053846434</td>\n",
       "      <td>195.jpg</td>\n",
       "      <td>None</td>\n",
       "    </tr>\n",
       "    <tr>\n",
       "      <th>196</th>\n",
       "      <td>&lt;PIL.JpegImagePlugin.JpegImageFile image mode=...</td>\n",
       "      <td>[441, 2571]</td>\n",
       "      <td>[1593, 2376]</td>\n",
       "      <td>[1707, 3144]</td>\n",
       "      <td>[444, 3225]</td>\n",
       "      <td>False</td>\n",
       "      <td>92123605213202401080000053846434</td>\n",
       "      <td>196.jpg</td>\n",
       "      <td>None</td>\n",
       "    </tr>\n",
       "    <tr>\n",
       "      <th>197</th>\n",
       "      <td>&lt;PIL.JpegImagePlugin.JpegImageFile image mode=...</td>\n",
       "      <td>[1344, 2280]</td>\n",
       "      <td>[2235, 1995]</td>\n",
       "      <td>[2646, 2685]</td>\n",
       "      <td>[1710, 3000]</td>\n",
       "      <td>False</td>\n",
       "      <td>92123605213202401080000053846434</td>\n",
       "      <td>197.jpg</td>\n",
       "      <td>None</td>\n",
       "    </tr>\n",
       "    <tr>\n",
       "      <th>198</th>\n",
       "      <td>&lt;PIL.JpegImagePlugin.JpegImageFile image mode=...</td>\n",
       "      <td>[1308, 2535]</td>\n",
       "      <td>[2043, 2370]</td>\n",
       "      <td>[2367, 3102]</td>\n",
       "      <td>[1614, 3333]</td>\n",
       "      <td>False</td>\n",
       "      <td>92123605213202401080000053846434</td>\n",
       "      <td>198.jpg</td>\n",
       "      <td>None</td>\n",
       "    </tr>\n",
       "    <tr>\n",
       "      <th>199</th>\n",
       "      <td>&lt;PIL.JpegImagePlugin.JpegImageFile image mode=...</td>\n",
       "      <td>[1605, 1899]</td>\n",
       "      <td>[2256, 1767]</td>\n",
       "      <td>[2544, 2427]</td>\n",
       "      <td>[1890, 2607]</td>\n",
       "      <td>False</td>\n",
       "      <td>92123605213202401080000053846434</td>\n",
       "      <td>199.jpg</td>\n",
       "      <td>None</td>\n",
       "    </tr>\n",
       "  </tbody>\n",
       "</table>\n",
       "<p>200 rows × 9 columns</p>\n",
       "</div>"
      ],
      "text/plain": [
       "                                                 image            tl  \\\n",
       "0    <PIL.JpegImagePlugin.JpegImageFile image mode=...   [1632, 884]   \n",
       "1    <PIL.JpegImagePlugin.JpegImageFile image mode=...  [1869, 1737]   \n",
       "2    <PIL.JpegImagePlugin.JpegImageFile image mode=...  [1380, 1536]   \n",
       "3    <PIL.JpegImagePlugin.JpegImageFile image mode=...   [1476, 932]   \n",
       "4    <PIL.JpegImagePlugin.JpegImageFile image mode=...   [1640, 600]   \n",
       "..                                                 ...           ...   \n",
       "195  <PIL.JpegImagePlugin.JpegImageFile image mode=...  [1824, 2790]   \n",
       "196  <PIL.JpegImagePlugin.JpegImageFile image mode=...   [441, 2571]   \n",
       "197  <PIL.JpegImagePlugin.JpegImageFile image mode=...  [1344, 2280]   \n",
       "198  <PIL.JpegImagePlugin.JpegImageFile image mode=...  [1308, 2535]   \n",
       "199  <PIL.JpegImagePlugin.JpegImageFile image mode=...  [1605, 1899]   \n",
       "\n",
       "               tr            br            bl  clean  \\\n",
       "0     [2646, 873]  [2652, 1896]  [1632, 1908]   True   \n",
       "1     [2430, 993]  [3183, 1542]  [2604, 2262]  False   \n",
       "2    [1923, 1110]  [2295, 1668]  [1737, 2064]  False   \n",
       "3     [2628, 984]  [2580, 2144]  [1412, 2096]  False   \n",
       "4     [2732, 600]  [2724, 1692]  [1648, 1692]  False   \n",
       "..            ...           ...           ...    ...   \n",
       "195  [1731, 2136]  [2379, 1923]  [2328, 2418]  False   \n",
       "196  [1593, 2376]  [1707, 3144]   [444, 3225]  False   \n",
       "197  [2235, 1995]  [2646, 2685]  [1710, 3000]  False   \n",
       "198  [2043, 2370]  [2367, 3102]  [1614, 3333]  False   \n",
       "199  [2256, 1767]  [2544, 2427]  [1890, 2607]  False   \n",
       "\n",
       "                                 text image_name decoded_text_before_nn  \n",
       "0                         11505771-01    000.jpg            11505771-01  \n",
       "1                         11505771-01    001.jpg                   None  \n",
       "2                         11505771-01    002.jpg                   None  \n",
       "3                         11505771-01    003.jpg            11505771-01  \n",
       "4                         11505771-01    004.jpg            11505771-01  \n",
       "..                                ...        ...                    ...  \n",
       "195  92123605213202401080000053846434    195.jpg                   None  \n",
       "196  92123605213202401080000053846434    196.jpg                   None  \n",
       "197  92123605213202401080000053846434    197.jpg                   None  \n",
       "198  92123605213202401080000053846434    198.jpg                   None  \n",
       "199  92123605213202401080000053846434    199.jpg                   None  \n",
       "\n",
       "[200 rows x 9 columns]"
      ]
     },
     "execution_count": 3,
     "metadata": {},
     "output_type": "execute_result"
    }
   ],
   "source": [
    "# create pandas dataframe with new collumn decoded_text\n",
    "pd_dataset = pd.DataFrame(cropped_test_dataset_from_hf)\n",
    "resized_np_image = pd_dataset[\"image\"].map(lambda x: np.asarray(x.resize((128, 128)).convert(\"L\")))\n",
    "pd_dataset[\"decoded_text_before_nn\"] = resized_np_image.map(lambda x: my_utils.decode_dm_code(x))\n",
    "pd_dataset"
   ]
  },
  {
   "cell_type": "code",
   "execution_count": 4,
   "metadata": {},
   "outputs": [],
   "source": [
    "def print_decoding_results(pd_dataset: pd.DataFrame, decoded_text_column: str):\n",
    "    print(\"Number of correctly decoded clean codes:\", end=\" \")\n",
    "    print(len(pd_dataset[(pd_dataset[\"clean\"]) & (pd_dataset[decoded_text_column] == pd_dataset[\"text\"])]), end=\" \")\n",
    "    print(\"out of\", pd_dataset[\"clean\"].sum())\n",
    "\n",
    "    print(\"Number of undecodable clean codes:\", end=\" \")\n",
    "    print(len(pd_dataset[(pd_dataset[\"clean\"]) & pd_dataset[decoded_text_column].isna()]), end=\" \")\n",
    "    print(\"out of\", pd_dataset[\"clean\"].sum())\n",
    "\n",
    "    print()\n",
    "\n",
    "    print(\"Number of correctly decoded damaged codes:\", end=\" \")\n",
    "    print(len(pd_dataset[~(pd_dataset[\"clean\"]) & (pd_dataset[decoded_text_column] == pd_dataset[\"text\"])]), end=\" \")\n",
    "    print(\"out of\", (~pd_dataset[\"clean\"]).sum())\n",
    "\n",
    "    print(\"Number of undecodable damaged codes:\", end=\" \")\n",
    "    print(len(pd_dataset[~(pd_dataset[\"clean\"]) & pd_dataset[decoded_text_column].isna()]), end=\" \")\n",
    "    print(\"out of\", (~pd_dataset[\"clean\"]).sum())\n",
    "\n",
    "\n",
    "    print(\"Number of decoded, but not correctly decoded damaged codes:\", end=\" \")\n",
    "    print(len(pd_dataset[~(pd_dataset[\"clean\"]) & (~pd_dataset[decoded_text_column].isna()) &\n",
    "                        (pd_dataset[decoded_text_column] != pd_dataset[\"text\"])]), end=\" \")\n",
    "    print(\"out of\", (~pd_dataset[\"clean\"]).sum())"
   ]
  },
  {
   "cell_type": "code",
   "execution_count": 5,
   "metadata": {},
   "outputs": [
    {
     "name": "stdout",
     "output_type": "stream",
     "text": [
      "Before network:\n",
      "Number of correctly decoded clean codes: 35 out of 38\n",
      "Number of undecodable clean codes: 3 out of 38\n",
      "\n",
      "Number of correctly decoded damaged codes: 30 out of 162\n",
      "Number of undecodable damaged codes: 130 out of 162\n",
      "Number of decoded, but not correctly decoded damaged codes: 2 out of 162\n"
     ]
    }
   ],
   "source": [
    "print(\"Before network:\")\n",
    "print_decoding_results(pd_dataset, \"decoded_text_before_nn\")"
   ]
  },
  {
   "cell_type": "code",
   "execution_count": 6,
   "metadata": {},
   "outputs": [
    {
     "data": {
      "text/html": [
       "<div>\n",
       "<style scoped>\n",
       "    .dataframe tbody tr th:only-of-type {\n",
       "        vertical-align: middle;\n",
       "    }\n",
       "\n",
       "    .dataframe tbody tr th {\n",
       "        vertical-align: top;\n",
       "    }\n",
       "\n",
       "    .dataframe thead th {\n",
       "        text-align: right;\n",
       "    }\n",
       "</style>\n",
       "<table border=\"1\" class=\"dataframe\">\n",
       "  <thead>\n",
       "    <tr style=\"text-align: right;\">\n",
       "      <th></th>\n",
       "      <th>image</th>\n",
       "      <th>tl</th>\n",
       "      <th>tr</th>\n",
       "      <th>br</th>\n",
       "      <th>bl</th>\n",
       "      <th>clean</th>\n",
       "      <th>text</th>\n",
       "      <th>image_name</th>\n",
       "      <th>decoded_text_before_nn</th>\n",
       "    </tr>\n",
       "  </thead>\n",
       "  <tbody>\n",
       "    <tr>\n",
       "      <th>62</th>\n",
       "      <td>&lt;PIL.JpegImagePlugin.JpegImageFile image mode=...</td>\n",
       "      <td>[2175, 1341]</td>\n",
       "      <td>[2427, 1371]</td>\n",
       "      <td>[2424, 1617]</td>\n",
       "      <td>[2178, 1575]</td>\n",
       "      <td>False</td>\n",
       "      <td>10192673</td>\n",
       "      <td>062.jpg</td>\n",
       "      <td>19S</td>\n",
       "    </tr>\n",
       "    <tr>\n",
       "      <th>98</th>\n",
       "      <td>&lt;PIL.JpegImagePlugin.JpegImageFile image mode=...</td>\n",
       "      <td>[876, 1290]</td>\n",
       "      <td>[1800, 774]</td>\n",
       "      <td>[2514, 1656]</td>\n",
       "      <td>[1599, 2067]</td>\n",
       "      <td>False</td>\n",
       "      <td>LB7210B</td>\n",
       "      <td>098.jpg</td>\n",
       "      <td>KF\u0019CB</td>\n",
       "    </tr>\n",
       "  </tbody>\n",
       "</table>\n",
       "</div>"
      ],
      "text/plain": [
       "                                                image            tl  \\\n",
       "62  <PIL.JpegImagePlugin.JpegImageFile image mode=...  [2175, 1341]   \n",
       "98  <PIL.JpegImagePlugin.JpegImageFile image mode=...   [876, 1290]   \n",
       "\n",
       "              tr            br            bl  clean      text image_name  \\\n",
       "62  [2427, 1371]  [2424, 1617]  [2178, 1575]  False  10192673    062.jpg   \n",
       "98   [1800, 774]  [2514, 1656]  [1599, 2067]  False   LB7210B    098.jpg   \n",
       "\n",
       "   decoded_text_before_nn  \n",
       "62                    19S  \n",
       "98                  KF\u0019CB  "
      ]
     },
     "execution_count": 6,
     "metadata": {},
     "output_type": "execute_result"
    }
   ],
   "source": [
    "# decoded, but not correctly decoded damaged codes\n",
    "pd_dataset[~(pd_dataset[\"clean\"]) & (~pd_dataset[\"decoded_text_before_nn\"].isna()) &\n",
    "           (pd_dataset[\"decoded_text_before_nn\"] != pd_dataset[\"text\"])]"
   ]
  },
  {
   "cell_type": "code",
   "execution_count": 7,
   "metadata": {},
   "outputs": [],
   "source": [
    "# prepare dataset to be an input to the network\n",
    "def resize_and_preprocess_image(batch):\n",
    "    resized_image = batch[\"image\"].resize((128, 128), resample=Image.Resampling.NEAREST)\n",
    "    return {\"image\": my_datasets._preprocess(np.asarray(resized_image))}\n",
    "\n",
    "preprocessed_dataset = cropped_test_dataset_from_hf.map(resize_and_preprocess_image)"
   ]
  },
  {
   "cell_type": "code",
   "execution_count": 8,
   "metadata": {},
   "outputs": [],
   "source": [
    "# create dataloader\n",
    "dataloader_test = torch.utils.data.DataLoader(\n",
    "    dataset=preprocessed_dataset.with_format(\"torch\"),\n",
    "    batch_size=64\n",
    ")"
   ]
  },
  {
   "cell_type": "code",
   "execution_count": 9,
   "metadata": {},
   "outputs": [
    {
     "name": "stderr",
     "output_type": "stream",
     "text": [
      "/home/pk/miniconda3/envs/dp-dm-conda/lib/python3.9/site-packages/lightning/fabric/connector.py:562: UserWarning: 16 is supported for historical reasons but its usage is discouraged. Please set your precision to 16-mixed instead!\n",
      "  rank_zero_warn(\n",
      "Using 16bit Automatic Mixed Precision (AMP)\n",
      "GPU available: True (cuda), used: True\n",
      "TPU available: False, using: 0 TPU cores\n",
      "IPU available: False, using: 0 IPUs\n",
      "HPU available: False, using: 0 HPUs\n"
     ]
    },
    {
     "name": "stderr",
     "output_type": "stream",
     "text": [
      "/home/pk/miniconda3/envs/dp-dm-conda/lib/python3.9/site-packages/lightning/pytorch/trainer/connectors/logger_connector/logger_connector.py:67: UserWarning: Starting from v1.9.0, `tensorboardX` has been removed as a dependency of the `lightning.pytorch` package, due to potential conflicts with other packages in the ML ecosystem. For this reason, `logger=True` will use `CSVLogger` as the default logger, unless the `tensorboard` or `tensorboardX` packages are found. Please `pip install lightning[extra]` or one of them to enable TensorBoard support by default\n",
      "  warning_cache.warn(\n",
      "You are using a CUDA device ('NVIDIA GeForce RTX 3060') that has Tensor Cores. To properly utilize them, you should set `torch.set_float32_matmul_precision('medium' | 'high')` which will trade-off precision for performance. For more details, read https://pytorch.org/docs/stable/generated/torch.set_float32_matmul_precision.html#torch.set_float32_matmul_precision\n",
      "LOCAL_RANK: 0 - CUDA_VISIBLE_DEVICES: [0]\n",
      "/home/pk/miniconda3/envs/dp-dm-conda/lib/python3.9/site-packages/lightning/pytorch/trainer/connectors/data_connector.py:430: PossibleUserWarning: The dataloader, predict_dataloader, does not have many workers which may be a bottleneck. Consider increasing the value of the `num_workers` argument` (try 12 which is the number of cpus on this machine) in the `DataLoader` init to improve performance.\n",
      "  rank_zero_warn(\n"
     ]
    },
    {
     "name": "stdout",
     "output_type": "stream",
     "text": [
      "Predicting DataLoader 0: 100%|██████████| 4/4 [00:01<00:00,  2.82it/s]\n"
     ]
    }
   ],
   "source": [
    "# load model from checkpoint and compute predictions\n",
    "trainer = pl.Trainer(precision=16)\n",
    "loaded_model = my_training.LitAutoEncoder.load_from_checkpoint(\"../checkpoints/glowing-snowball-134/step=7500--corr_dec=0.99.ckpt\")\n",
    "loaded_model.eval()\n",
    "predictions = trainer.predict(loaded_model, dataloader_test)"
   ]
  },
  {
   "cell_type": "code",
   "execution_count": 10,
   "metadata": {},
   "outputs": [
    {
     "data": {
      "text/html": [
       "<div>\n",
       "<style scoped>\n",
       "    .dataframe tbody tr th:only-of-type {\n",
       "        vertical-align: middle;\n",
       "    }\n",
       "\n",
       "    .dataframe tbody tr th {\n",
       "        vertical-align: top;\n",
       "    }\n",
       "\n",
       "    .dataframe thead th {\n",
       "        text-align: right;\n",
       "    }\n",
       "</style>\n",
       "<table border=\"1\" class=\"dataframe\">\n",
       "  <thead>\n",
       "    <tr style=\"text-align: right;\">\n",
       "      <th></th>\n",
       "      <th>image</th>\n",
       "      <th>tl</th>\n",
       "      <th>tr</th>\n",
       "      <th>br</th>\n",
       "      <th>bl</th>\n",
       "      <th>clean</th>\n",
       "      <th>text</th>\n",
       "      <th>image_name</th>\n",
       "      <th>decoded_text_before_nn</th>\n",
       "      <th>nn_prediction</th>\n",
       "    </tr>\n",
       "  </thead>\n",
       "  <tbody>\n",
       "    <tr>\n",
       "      <th>0</th>\n",
       "      <td>&lt;PIL.JpegImagePlugin.JpegImageFile image mode=...</td>\n",
       "      <td>[1632, 884]</td>\n",
       "      <td>[2646, 873]</td>\n",
       "      <td>[2652, 1896]</td>\n",
       "      <td>[1632, 1908]</td>\n",
       "      <td>True</td>\n",
       "      <td>11505771-01</td>\n",
       "      <td>000.jpg</td>\n",
       "      <td>11505771-01</td>\n",
       "      <td>[[[tensor(0.9883, dtype=torch.float16), tensor...</td>\n",
       "    </tr>\n",
       "    <tr>\n",
       "      <th>1</th>\n",
       "      <td>&lt;PIL.JpegImagePlugin.JpegImageFile image mode=...</td>\n",
       "      <td>[1869, 1737]</td>\n",
       "      <td>[2430, 993]</td>\n",
       "      <td>[3183, 1542]</td>\n",
       "      <td>[2604, 2262]</td>\n",
       "      <td>False</td>\n",
       "      <td>11505771-01</td>\n",
       "      <td>001.jpg</td>\n",
       "      <td>None</td>\n",
       "      <td>[[[tensor(0.9526, dtype=torch.float16), tensor...</td>\n",
       "    </tr>\n",
       "    <tr>\n",
       "      <th>2</th>\n",
       "      <td>&lt;PIL.JpegImagePlugin.JpegImageFile image mode=...</td>\n",
       "      <td>[1380, 1536]</td>\n",
       "      <td>[1923, 1110]</td>\n",
       "      <td>[2295, 1668]</td>\n",
       "      <td>[1737, 2064]</td>\n",
       "      <td>False</td>\n",
       "      <td>11505771-01</td>\n",
       "      <td>002.jpg</td>\n",
       "      <td>None</td>\n",
       "      <td>[[[tensor(1.0176, dtype=torch.float16), tensor...</td>\n",
       "    </tr>\n",
       "    <tr>\n",
       "      <th>3</th>\n",
       "      <td>&lt;PIL.JpegImagePlugin.JpegImageFile image mode=...</td>\n",
       "      <td>[1476, 932]</td>\n",
       "      <td>[2628, 984]</td>\n",
       "      <td>[2580, 2144]</td>\n",
       "      <td>[1412, 2096]</td>\n",
       "      <td>False</td>\n",
       "      <td>11505771-01</td>\n",
       "      <td>003.jpg</td>\n",
       "      <td>11505771-01</td>\n",
       "      <td>[[[tensor(0.9736, dtype=torch.float16), tensor...</td>\n",
       "    </tr>\n",
       "    <tr>\n",
       "      <th>4</th>\n",
       "      <td>&lt;PIL.JpegImagePlugin.JpegImageFile image mode=...</td>\n",
       "      <td>[1640, 600]</td>\n",
       "      <td>[2732, 600]</td>\n",
       "      <td>[2724, 1692]</td>\n",
       "      <td>[1648, 1692]</td>\n",
       "      <td>False</td>\n",
       "      <td>11505771-01</td>\n",
       "      <td>004.jpg</td>\n",
       "      <td>11505771-01</td>\n",
       "      <td>[[[tensor(0.9824, dtype=torch.float16), tensor...</td>\n",
       "    </tr>\n",
       "  </tbody>\n",
       "</table>\n",
       "</div>"
      ],
      "text/plain": [
       "                                               image            tl  \\\n",
       "0  <PIL.JpegImagePlugin.JpegImageFile image mode=...   [1632, 884]   \n",
       "1  <PIL.JpegImagePlugin.JpegImageFile image mode=...  [1869, 1737]   \n",
       "2  <PIL.JpegImagePlugin.JpegImageFile image mode=...  [1380, 1536]   \n",
       "3  <PIL.JpegImagePlugin.JpegImageFile image mode=...   [1476, 932]   \n",
       "4  <PIL.JpegImagePlugin.JpegImageFile image mode=...   [1640, 600]   \n",
       "\n",
       "             tr            br            bl  clean         text image_name  \\\n",
       "0   [2646, 873]  [2652, 1896]  [1632, 1908]   True  11505771-01    000.jpg   \n",
       "1   [2430, 993]  [3183, 1542]  [2604, 2262]  False  11505771-01    001.jpg   \n",
       "2  [1923, 1110]  [2295, 1668]  [1737, 2064]  False  11505771-01    002.jpg   \n",
       "3   [2628, 984]  [2580, 2144]  [1412, 2096]  False  11505771-01    003.jpg   \n",
       "4   [2732, 600]  [2724, 1692]  [1648, 1692]  False  11505771-01    004.jpg   \n",
       "\n",
       "  decoded_text_before_nn                                      nn_prediction  \n",
       "0            11505771-01  [[[tensor(0.9883, dtype=torch.float16), tensor...  \n",
       "1                   None  [[[tensor(0.9526, dtype=torch.float16), tensor...  \n",
       "2                   None  [[[tensor(1.0176, dtype=torch.float16), tensor...  \n",
       "3            11505771-01  [[[tensor(0.9736, dtype=torch.float16), tensor...  \n",
       "4            11505771-01  [[[tensor(0.9824, dtype=torch.float16), tensor...  "
      ]
     },
     "execution_count": 10,
     "metadata": {},
     "output_type": "execute_result"
    }
   ],
   "source": [
    "# chain all predictions together to get one list\n",
    "# (otherwise I could iterate it as \"for batch in predictions: for pred in batch: ...\")\n",
    "pd_dataset[\"nn_prediction\"] = list(itertools.chain(*predictions))\n",
    "pd_dataset.head()"
   ]
  },
  {
   "cell_type": "code",
   "execution_count": 11,
   "metadata": {},
   "outputs": [],
   "source": [
    "np_prediction_for_image = pd_dataset[\"nn_prediction\"].map(lambda x: np.squeeze(my_utils.tensor_to_numpy_for_image(x.unsqueeze(dim=0))))\n",
    "pd_dataset[\"nn_output_image\"] = np_prediction_for_image.map(lambda x: Image.fromarray(x, mode=\"L\"))\n",
    "pd_dataset[\"decoded_text_after_nn\"] = np_prediction_for_image.map(my_utils.decode_dm_code)"
   ]
  },
  {
   "cell_type": "code",
   "execution_count": 12,
   "metadata": {},
   "outputs": [
    {
     "data": {
      "text/html": [
       "<div>\n",
       "<style scoped>\n",
       "    .dataframe tbody tr th:only-of-type {\n",
       "        vertical-align: middle;\n",
       "    }\n",
       "\n",
       "    .dataframe tbody tr th {\n",
       "        vertical-align: top;\n",
       "    }\n",
       "\n",
       "    .dataframe thead th {\n",
       "        text-align: right;\n",
       "    }\n",
       "</style>\n",
       "<table border=\"1\" class=\"dataframe\">\n",
       "  <thead>\n",
       "    <tr style=\"text-align: right;\">\n",
       "      <th></th>\n",
       "      <th>image</th>\n",
       "      <th>tl</th>\n",
       "      <th>tr</th>\n",
       "      <th>br</th>\n",
       "      <th>bl</th>\n",
       "      <th>clean</th>\n",
       "      <th>text</th>\n",
       "      <th>image_name</th>\n",
       "      <th>decoded_text_before_nn</th>\n",
       "      <th>nn_prediction</th>\n",
       "      <th>nn_output_image</th>\n",
       "      <th>decoded_text_after_nn</th>\n",
       "    </tr>\n",
       "  </thead>\n",
       "  <tbody>\n",
       "    <tr>\n",
       "      <th>0</th>\n",
       "      <td>&lt;PIL.JpegImagePlugin.JpegImageFile image mode=...</td>\n",
       "      <td>[1632, 884]</td>\n",
       "      <td>[2646, 873]</td>\n",
       "      <td>[2652, 1896]</td>\n",
       "      <td>[1632, 1908]</td>\n",
       "      <td>True</td>\n",
       "      <td>11505771-01</td>\n",
       "      <td>000.jpg</td>\n",
       "      <td>11505771-01</td>\n",
       "      <td>[[[tensor(0.9883, dtype=torch.float16), tensor...</td>\n",
       "      <td>&lt;PIL.Image.Image image mode=L size=128x128 at ...</td>\n",
       "      <td>11505771-01</td>\n",
       "    </tr>\n",
       "    <tr>\n",
       "      <th>1</th>\n",
       "      <td>&lt;PIL.JpegImagePlugin.JpegImageFile image mode=...</td>\n",
       "      <td>[1869, 1737]</td>\n",
       "      <td>[2430, 993]</td>\n",
       "      <td>[3183, 1542]</td>\n",
       "      <td>[2604, 2262]</td>\n",
       "      <td>False</td>\n",
       "      <td>11505771-01</td>\n",
       "      <td>001.jpg</td>\n",
       "      <td>None</td>\n",
       "      <td>[[[tensor(0.9526, dtype=torch.float16), tensor...</td>\n",
       "      <td>&lt;PIL.Image.Image image mode=L size=128x128 at ...</td>\n",
       "      <td>11505771-01</td>\n",
       "    </tr>\n",
       "    <tr>\n",
       "      <th>2</th>\n",
       "      <td>&lt;PIL.JpegImagePlugin.JpegImageFile image mode=...</td>\n",
       "      <td>[1380, 1536]</td>\n",
       "      <td>[1923, 1110]</td>\n",
       "      <td>[2295, 1668]</td>\n",
       "      <td>[1737, 2064]</td>\n",
       "      <td>False</td>\n",
       "      <td>11505771-01</td>\n",
       "      <td>002.jpg</td>\n",
       "      <td>None</td>\n",
       "      <td>[[[tensor(1.0176, dtype=torch.float16), tensor...</td>\n",
       "      <td>&lt;PIL.Image.Image image mode=L size=128x128 at ...</td>\n",
       "      <td>None</td>\n",
       "    </tr>\n",
       "    <tr>\n",
       "      <th>3</th>\n",
       "      <td>&lt;PIL.JpegImagePlugin.JpegImageFile image mode=...</td>\n",
       "      <td>[1476, 932]</td>\n",
       "      <td>[2628, 984]</td>\n",
       "      <td>[2580, 2144]</td>\n",
       "      <td>[1412, 2096]</td>\n",
       "      <td>False</td>\n",
       "      <td>11505771-01</td>\n",
       "      <td>003.jpg</td>\n",
       "      <td>11505771-01</td>\n",
       "      <td>[[[tensor(0.9736, dtype=torch.float16), tensor...</td>\n",
       "      <td>&lt;PIL.Image.Image image mode=L size=128x128 at ...</td>\n",
       "      <td>11505771-01</td>\n",
       "    </tr>\n",
       "    <tr>\n",
       "      <th>4</th>\n",
       "      <td>&lt;PIL.JpegImagePlugin.JpegImageFile image mode=...</td>\n",
       "      <td>[1640, 600]</td>\n",
       "      <td>[2732, 600]</td>\n",
       "      <td>[2724, 1692]</td>\n",
       "      <td>[1648, 1692]</td>\n",
       "      <td>False</td>\n",
       "      <td>11505771-01</td>\n",
       "      <td>004.jpg</td>\n",
       "      <td>11505771-01</td>\n",
       "      <td>[[[tensor(0.9824, dtype=torch.float16), tensor...</td>\n",
       "      <td>&lt;PIL.Image.Image image mode=L size=128x128 at ...</td>\n",
       "      <td>None</td>\n",
       "    </tr>\n",
       "  </tbody>\n",
       "</table>\n",
       "</div>"
      ],
      "text/plain": [
       "                                               image            tl  \\\n",
       "0  <PIL.JpegImagePlugin.JpegImageFile image mode=...   [1632, 884]   \n",
       "1  <PIL.JpegImagePlugin.JpegImageFile image mode=...  [1869, 1737]   \n",
       "2  <PIL.JpegImagePlugin.JpegImageFile image mode=...  [1380, 1536]   \n",
       "3  <PIL.JpegImagePlugin.JpegImageFile image mode=...   [1476, 932]   \n",
       "4  <PIL.JpegImagePlugin.JpegImageFile image mode=...   [1640, 600]   \n",
       "\n",
       "             tr            br            bl  clean         text image_name  \\\n",
       "0   [2646, 873]  [2652, 1896]  [1632, 1908]   True  11505771-01    000.jpg   \n",
       "1   [2430, 993]  [3183, 1542]  [2604, 2262]  False  11505771-01    001.jpg   \n",
       "2  [1923, 1110]  [2295, 1668]  [1737, 2064]  False  11505771-01    002.jpg   \n",
       "3   [2628, 984]  [2580, 2144]  [1412, 2096]  False  11505771-01    003.jpg   \n",
       "4   [2732, 600]  [2724, 1692]  [1648, 1692]  False  11505771-01    004.jpg   \n",
       "\n",
       "  decoded_text_before_nn                                      nn_prediction  \\\n",
       "0            11505771-01  [[[tensor(0.9883, dtype=torch.float16), tensor...   \n",
       "1                   None  [[[tensor(0.9526, dtype=torch.float16), tensor...   \n",
       "2                   None  [[[tensor(1.0176, dtype=torch.float16), tensor...   \n",
       "3            11505771-01  [[[tensor(0.9736, dtype=torch.float16), tensor...   \n",
       "4            11505771-01  [[[tensor(0.9824, dtype=torch.float16), tensor...   \n",
       "\n",
       "                                     nn_output_image decoded_text_after_nn  \n",
       "0  <PIL.Image.Image image mode=L size=128x128 at ...           11505771-01  \n",
       "1  <PIL.Image.Image image mode=L size=128x128 at ...           11505771-01  \n",
       "2  <PIL.Image.Image image mode=L size=128x128 at ...                  None  \n",
       "3  <PIL.Image.Image image mode=L size=128x128 at ...           11505771-01  \n",
       "4  <PIL.Image.Image image mode=L size=128x128 at ...                  None  "
      ]
     },
     "execution_count": 12,
     "metadata": {},
     "output_type": "execute_result"
    }
   ],
   "source": [
    "pd_dataset.head()"
   ]
  },
  {
   "cell_type": "code",
   "execution_count": 13,
   "metadata": {},
   "outputs": [
    {
     "name": "stdout",
     "output_type": "stream",
     "text": [
      "After network:\n",
      "Number of correctly decoded clean codes: 21 out of 38\n",
      "Number of undecodable clean codes: 15 out of 38\n",
      "\n",
      "Number of correctly decoded damaged codes: 20 out of 162\n",
      "Number of undecodable damaged codes: 141 out of 162\n",
      "Number of decoded, but not correctly decoded damaged codes: 1 out of 162\n"
     ]
    }
   ],
   "source": [
    "print(\"After network:\")\n",
    "print_decoding_results(pd_dataset, \"decoded_text_after_nn\")"
   ]
  },
  {
   "cell_type": "markdown",
   "metadata": {},
   "source": [
    "# Measure execution time"
   ]
  },
  {
   "cell_type": "code",
   "execution_count": 2,
   "metadata": {},
   "outputs": [],
   "source": [
    "# seed the RNG for all devices (both CPU and CUDA)\n",
    "torch.manual_seed(0)\n",
    "\n",
    "# create random tensors as the inputs to the network\n",
    "random_tensors = torch.rand(size=(64, 3, 128, 128))"
   ]
  },
  {
   "cell_type": "code",
   "execution_count": 3,
   "metadata": {},
   "outputs": [],
   "source": [
    "# create dataloader\n",
    "dataloader_random_tensors = torch.utils.data.DataLoader(\n",
    "    dataset=[{\"image\": x} for x in random_tensors],\n",
    "    batch_size=32\n",
    ")"
   ]
  },
  {
   "cell_type": "code",
   "execution_count": 4,
   "metadata": {},
   "outputs": [
    {
     "name": "stderr",
     "output_type": "stream",
     "text": [
      "GPU available: False, used: False\n",
      "TPU available: False, using: 0 TPU cores\n",
      "IPU available: False, using: 0 IPUs\n",
      "HPU available: False, using: 0 HPUs\n",
      "/home/kp/miniconda3/envs/dm-codes/lib/python3.9/site-packages/lightning/pytorch/trainer/connectors/logger_connector/logger_connector.py:67: UserWarning: Starting from v1.9.0, `tensorboardX` has been removed as a dependency of the `lightning.pytorch` package, due to potential conflicts with other packages in the ML ecosystem. For this reason, `logger=True` will use `CSVLogger` as the default logger, unless the `tensorboard` or `tensorboardX` packages are found. Please `pip install lightning[extra]` or one of them to enable TensorBoard support by default\n",
      "  warning_cache.warn(\n",
      "/home/kp/miniconda3/envs/dm-codes/lib/python3.9/site-packages/lightning/pytorch/trainer/connectors/data_connector.py:430: PossibleUserWarning: The dataloader, predict_dataloader, does not have many workers which may be a bottleneck. Consider increasing the value of the `num_workers` argument` (try 4 which is the number of cpus on this machine) in the `DataLoader` init to improve performance.\n",
      "  rank_zero_warn(\n"
     ]
    },
    {
     "name": "stdout",
     "output_type": "stream",
     "text": [
      "Predicting DataLoader 0: 100%|██████████| 2/2 [00:03<00:00,  1.96s/it]\n",
      "\n",
      "wall time: 4.236556711024605 seconds\n",
      "cpu time: 7.305168144 seconds\n"
     ]
    }
   ],
   "source": [
    "checkpoint_path = \"../checkpoints/glowing-snowball-134/step=7500--corr_dec=0.99.ckpt\"\n",
    "\n",
    "trainer = pl.Trainer()\n",
    "loaded_model = my_training.LitAutoEncoder.load_from_checkpoint(checkpoint_path, map_location=torch.device(\"cpu\"))\n",
    "loaded_model.eval()\n",
    "\n",
    "start_wall_time = timeit.default_timer()\n",
    "start_cpu_time = time.process_time()\n",
    "\n",
    "predictions = trainer.predict(loaded_model, dataloader_random_tensors)\n",
    "\n",
    "end_wall_time = timeit.default_timer()\n",
    "end_cpu_time = time.process_time()\n",
    "\n",
    "print()\n",
    "print(\"wall time:\", end_wall_time - start_wall_time, \"seconds\")\n",
    "print(\"cpu time:\", end_cpu_time - start_cpu_time, \"seconds\")"
   ]
  },
  {
   "cell_type": "code",
   "execution_count": 5,
   "metadata": {},
   "outputs": [
    {
     "name": "stderr",
     "output_type": "stream",
     "text": [
      "/home/kp/miniconda3/envs/dm-codes/lib/python3.9/site-packages/segmentation_models_pytorch/base/model.py:16: TracerWarning: Converting a tensor to a Python boolean might cause the trace to be incorrect. We can't record the data flow of Python values, so this value will be treated as a constant in the future. This means that the trace might not generalize to other inputs!\n",
      "  if h % output_stride != 0 or w % output_stride != 0:\n"
     ]
    },
    {
     "name": "stdout",
     "output_type": "stream",
     "text": [
      "============= Diagnostic Run torch.onnx.export version 2.0.1+cu117 =============\n",
      "verbose: False, log level: Level.ERROR\n",
      "======================= 0 NONE 0 NOTE 0 WARNING 0 ERROR ========================\n",
      "\n"
     ]
    }
   ],
   "source": [
    "# export torch model to onnx\n",
    "onnx_model_path = \"../checkpoints/exported_model.onnx\"\n",
    "torch.onnx.export(\n",
    "    loaded_model,\n",
    "    torch.rand(size=(64, 3, 128, 128)),\n",
    "    onnx_model_path,\n",
    "    input_names=[\"image\"],\n",
    "    output_names = ['output'],\n",
    "    dynamic_axes={'image' : {0 : 'batch_size'}, 'output' : {0 : 'batch_size'}}\n",
    ")"
   ]
  },
  {
   "cell_type": "code",
   "execution_count": 6,
   "metadata": {},
   "outputs": [],
   "source": [
    "# load onnx model and create inference session\n",
    "onnx_model = onnx.load(onnx_model_path)\n",
    "onnx.checker.check_model(onnx_model)\n",
    "onnx_inference_session = onnxruntime.InferenceSession(onnx_model_path, providers=[\"CPUExecutionProvider\"])"
   ]
  },
  {
   "cell_type": "code",
   "execution_count": 7,
   "metadata": {},
   "outputs": [
    {
     "name": "stderr",
     "output_type": "stream",
     "text": [
      "  0%|          | 0/2 [00:00<?, ?it/s]"
     ]
    },
    {
     "name": "stderr",
     "output_type": "stream",
     "text": [
      "100%|██████████| 2/2 [00:02<00:00,  1.29s/it]"
     ]
    },
    {
     "name": "stdout",
     "output_type": "stream",
     "text": [
      "\n",
      "wall time: 2.5878376649925485 seconds\n",
      "cpu time: 4.860588821 seconds\n"
     ]
    },
    {
     "name": "stderr",
     "output_type": "stream",
     "text": [
      "\n"
     ]
    }
   ],
   "source": [
    "random_arrays = pd.DataFrame(dataloader_random_tensors).map(np.asarray).to_dict('records')\n",
    "onnx_predictions = []\n",
    "\n",
    "start_wall_time = timeit.default_timer()\n",
    "start_cpu_time = time.process_time()\n",
    "\n",
    "for random_array in tqdm(random_arrays):\n",
    "    pred, = onnx_inference_session.run(None, random_array)\n",
    "    onnx_predictions.append(pred)\n",
    "\n",
    "end_wall_time = timeit.default_timer()\n",
    "end_cpu_time = time.process_time()\n",
    "\n",
    "print()\n",
    "print(\"wall time:\", end_wall_time - start_wall_time, \"seconds\")\n",
    "print(\"cpu time:\", end_cpu_time - start_cpu_time, \"seconds\")"
   ]
  },
  {
   "cell_type": "code",
   "execution_count": 8,
   "metadata": {},
   "outputs": [
    {
     "data": {
      "text/plain": [
       "6.735325e-06"
      ]
     },
     "execution_count": 8,
     "metadata": {},
     "output_type": "execute_result"
    }
   ],
   "source": [
    "# check if the output predictions are the same\n",
    "np.abs(np.asarray(list(itertools.chain(*predictions))) -\n",
    "       np.asarray(list(itertools.chain(*onnx_predictions)))).max()"
   ]
  }
 ],
 "metadata": {
  "kernelspec": {
   "display_name": "dp-dm-conda",
   "language": "python",
   "name": "python3"
  },
  "language_info": {
   "codemirror_mode": {
    "name": "ipython",
    "version": 3
   },
   "file_extension": ".py",
   "mimetype": "text/x-python",
   "name": "python",
   "nbconvert_exporter": "python",
   "pygments_lexer": "ipython3",
   "version": "3.9.16"
  }
 },
 "nbformat": 4,
 "nbformat_minor": 2
}
